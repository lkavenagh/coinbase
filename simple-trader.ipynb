{
 "cells": [
  {
   "cell_type": "code",
   "execution_count": 1,
   "metadata": {},
   "outputs": [],
   "source": [
    "from IPython.display import clear_output, display\n",
    "import sys\n",
    "import os\n",
    "import time\n",
    "import numpy as np\n",
    "import datetime\n",
    "\n",
    "sys.path.append(os.path.join(os.environ['HOMEDRIVE'], os.environ['HOMEPATH'], 'documents\\github\\coinbase'))\n",
    "\n",
    "from Trader import Trader"
   ]
  },
  {
   "cell_type": "code",
   "execution_count": 2,
   "metadata": {},
   "outputs": [],
   "source": [
    "trader = Trader()"
   ]
  },
  {
   "cell_type": "code",
   "execution_count": 3,
   "metadata": {},
   "outputs": [],
   "source": [
    "current_side = 'buy'\n",
    "qty_per_trade = 0.05\n",
    "trading_currency = 'ETH'"
   ]
  },
  {
   "cell_type": "code",
   "execution_count": 4,
   "metadata": {},
   "outputs": [],
   "source": [
    "last_buy_quote = np.Inf\n",
    "time_last_trade = datetime.datetime.now()"
   ]
  },
  {
   "cell_type": "code",
   "execution_count": 5,
   "metadata": {},
   "outputs": [
    {
     "name": "stdout",
     "output_type": "stream",
     "text": [
      "18:09:47: USD balance of $7.07 not enough to cover quote of $12.34\n",
      "Selling 0.05 of ETH\n",
      "18:10:18: Sold 0.0500 ETH for $9.26 for a profit of $9.26\n",
      "Total profit so far is $9.26\n",
      "18:10:49: Waiting for current buy price ($12.34) to drop below $12.29 before buying\n",
      "Buying 0.05 of ETH from account_id 2d06830b-4a73-56a5-8dc8-d4eb8497c198\n",
      "21:31:44: Bought 0.0500 ETH for $12.24\n",
      "21:32:15: Potential sell proceeds of $9.07 not greater than spend of $12.25\n",
      "09:32:08: USD balance of $4.09 not enough to cover quote of $12.22\n",
      "09:32:39: Potential sell proceeds of $9.13 not greater than spend of $12.25\n",
      "21:32:13: USD balance of $4.09 not enough to cover quote of $12.37\n",
      "21:32:44: Potential sell proceeds of $9.30 not greater than spend of $12.25\n"
     ]
    },
    {
     "ename": "InternalServerError",
     "evalue": "APIError(id=internal_server_error): An error has occurred. If this problem persists, please visit https://support.coinbase.com for assistance.",
     "output_type": "error",
     "traceback": [
      "\u001b[1;31m---------------------------------------------------------------------------\u001b[0m",
      "\u001b[1;31mInternalServerError\u001b[0m                       Traceback (most recent call last)",
      "\u001b[1;32m<ipython-input-5-fe12a3a9145f>\u001b[0m in \u001b[0;36m<module>\u001b[1;34m\u001b[0m\n\u001b[0;32m     48\u001b[0m \u001b[1;33m\u001b[0m\u001b[0m\n\u001b[0;32m     49\u001b[0m     \u001b[1;32melif\u001b[0m \u001b[0mcurrent_side\u001b[0m \u001b[1;33m==\u001b[0m \u001b[1;34m'sell'\u001b[0m\u001b[1;33m:\u001b[0m\u001b[1;33m\u001b[0m\u001b[1;33m\u001b[0m\u001b[0m\n\u001b[1;32m---> 50\u001b[1;33m         \u001b[0msell_q\u001b[0m \u001b[1;33m=\u001b[0m \u001b[0mfloat\u001b[0m\u001b[1;33m(\u001b[0m\u001b[0mtrader\u001b[0m\u001b[1;33m.\u001b[0m\u001b[0mgetSellQuote\u001b[0m\u001b[1;33m(\u001b[0m\u001b[0mtrading_currency\u001b[0m\u001b[1;33m,\u001b[0m \u001b[0mqty_per_trade\u001b[0m\u001b[1;33m)\u001b[0m\u001b[1;33m)\u001b[0m\u001b[1;33m\u001b[0m\u001b[1;33m\u001b[0m\u001b[0m\n\u001b[0m\u001b[0;32m     51\u001b[0m         \u001b[1;32mif\u001b[0m \u001b[1;33m(\u001b[0m\u001b[0msell_q\u001b[0m \u001b[1;33m>=\u001b[0m \u001b[1;33m(\u001b[0m\u001b[0mtotal_spend\u001b[0m \u001b[1;33m*\u001b[0m \u001b[0mprofit_margin\u001b[0m\u001b[1;33m)\u001b[0m\u001b[1;33m)\u001b[0m\u001b[1;33m:\u001b[0m\u001b[1;33m\u001b[0m\u001b[1;33m\u001b[0m\u001b[0m\n\u001b[0;32m     52\u001b[0m             \u001b[0msell\u001b[0m \u001b[1;33m=\u001b[0m \u001b[0mtrader\u001b[0m\u001b[1;33m.\u001b[0m\u001b[0msell\u001b[0m\u001b[1;33m(\u001b[0m\u001b[0mtrading_currency\u001b[0m\u001b[1;33m,\u001b[0m \u001b[0msell_multiplier\u001b[0m \u001b[1;33m*\u001b[0m \u001b[0mqty_per_trade\u001b[0m\u001b[1;33m)\u001b[0m\u001b[1;33m\u001b[0m\u001b[1;33m\u001b[0m\u001b[0m\n",
      "\u001b[1;32m~\\Documents\\GitHub\\coinbase\\Trader.py\u001b[0m in \u001b[0;36mgetSellQuote\u001b[1;34m(self, currency, qty)\u001b[0m\n\u001b[0;32m    102\u001b[0m                               \u001b[0mamount\u001b[0m \u001b[1;33m=\u001b[0m \u001b[0mqty\u001b[0m\u001b[1;33m,\u001b[0m\u001b[1;33m\u001b[0m\u001b[1;33m\u001b[0m\u001b[0m\n\u001b[0;32m    103\u001b[0m                               \u001b[0mcurrency\u001b[0m \u001b[1;33m=\u001b[0m \u001b[0mcurrency\u001b[0m\u001b[1;33m,\u001b[0m\u001b[1;33m\u001b[0m\u001b[1;33m\u001b[0m\u001b[0m\n\u001b[1;32m--> 104\u001b[1;33m                               \u001b[0mpayment_method\u001b[0m \u001b[1;33m=\u001b[0m \u001b[0mself\u001b[0m\u001b[1;33m.\u001b[0m\u001b[0mgetUSDWalletID\u001b[0m\u001b[1;33m(\u001b[0m\u001b[1;33m)\u001b[0m\u001b[1;33m,\u001b[0m\u001b[1;33m\u001b[0m\u001b[1;33m\u001b[0m\u001b[0m\n\u001b[0m\u001b[0;32m    105\u001b[0m                               quote = True)\n\u001b[0;32m    106\u001b[0m \u001b[1;33m\u001b[0m\u001b[0m\n",
      "\u001b[1;32m~\\Documents\\GitHub\\coinbase\\Trader.py\u001b[0m in \u001b[0;36mgetUSDWalletID\u001b[1;34m(self)\u001b[0m\n\u001b[0;32m    133\u001b[0m \u001b[1;33m\u001b[0m\u001b[0m\n\u001b[0;32m    134\u001b[0m     \u001b[1;32mdef\u001b[0m \u001b[0mgetUSDWalletID\u001b[0m\u001b[1;33m(\u001b[0m\u001b[0mself\u001b[0m\u001b[1;33m)\u001b[0m\u001b[1;33m:\u001b[0m\u001b[1;33m\u001b[0m\u001b[1;33m\u001b[0m\u001b[0m\n\u001b[1;32m--> 135\u001b[1;33m         \u001b[0mpms\u001b[0m \u001b[1;33m=\u001b[0m \u001b[0mself\u001b[0m\u001b[1;33m.\u001b[0m\u001b[0mclient\u001b[0m\u001b[1;33m.\u001b[0m\u001b[0mget_payment_methods\u001b[0m\u001b[1;33m(\u001b[0m\u001b[1;33m)\u001b[0m\u001b[1;33m[\u001b[0m\u001b[1;34m'data'\u001b[0m\u001b[1;33m]\u001b[0m\u001b[1;33m\u001b[0m\u001b[1;33m\u001b[0m\u001b[0m\n\u001b[0m\u001b[0;32m    136\u001b[0m         \u001b[1;32mfor\u001b[0m \u001b[0mpm\u001b[0m \u001b[1;32min\u001b[0m \u001b[0mpms\u001b[0m\u001b[1;33m:\u001b[0m\u001b[1;33m\u001b[0m\u001b[1;33m\u001b[0m\u001b[0m\n\u001b[0;32m    137\u001b[0m             \u001b[1;32mif\u001b[0m \u001b[0mpm\u001b[0m\u001b[1;33m[\u001b[0m\u001b[1;34m'type'\u001b[0m\u001b[1;33m]\u001b[0m \u001b[1;33m==\u001b[0m \u001b[1;34m'fiat_account'\u001b[0m\u001b[1;33m:\u001b[0m\u001b[1;33m\u001b[0m\u001b[1;33m\u001b[0m\u001b[0m\n",
      "\u001b[1;32m~\\Anaconda3\\lib\\site-packages\\coinbase\\wallet\\client.py\u001b[0m in \u001b[0;36mget_payment_methods\u001b[1;34m(self, **params)\u001b[0m\n\u001b[0;32m    500\u001b[0m   \u001b[1;32mdef\u001b[0m \u001b[0mget_payment_methods\u001b[0m\u001b[1;33m(\u001b[0m\u001b[0mself\u001b[0m\u001b[1;33m,\u001b[0m \u001b[1;33m**\u001b[0m\u001b[0mparams\u001b[0m\u001b[1;33m)\u001b[0m\u001b[1;33m:\u001b[0m\u001b[1;33m\u001b[0m\u001b[1;33m\u001b[0m\u001b[0m\n\u001b[0;32m    501\u001b[0m     \u001b[1;34m\"\"\"https://developers.coinbase.com/api/v2#list-payment-methods\"\"\"\u001b[0m\u001b[1;33m\u001b[0m\u001b[1;33m\u001b[0m\u001b[0m\n\u001b[1;32m--> 502\u001b[1;33m     \u001b[0mresponse\u001b[0m \u001b[1;33m=\u001b[0m \u001b[0mself\u001b[0m\u001b[1;33m.\u001b[0m\u001b[0m_get\u001b[0m\u001b[1;33m(\u001b[0m\u001b[1;34m'v2'\u001b[0m\u001b[1;33m,\u001b[0m \u001b[1;34m'payment-methods'\u001b[0m\u001b[1;33m,\u001b[0m \u001b[0mparams\u001b[0m\u001b[1;33m=\u001b[0m\u001b[0mparams\u001b[0m\u001b[1;33m)\u001b[0m\u001b[1;33m\u001b[0m\u001b[1;33m\u001b[0m\u001b[0m\n\u001b[0m\u001b[0;32m    503\u001b[0m     \u001b[1;32mreturn\u001b[0m \u001b[0mself\u001b[0m\u001b[1;33m.\u001b[0m\u001b[0m_make_api_object\u001b[0m\u001b[1;33m(\u001b[0m\u001b[0mresponse\u001b[0m\u001b[1;33m,\u001b[0m \u001b[0mPaymentMethod\u001b[0m\u001b[1;33m)\u001b[0m\u001b[1;33m\u001b[0m\u001b[1;33m\u001b[0m\u001b[0m\n\u001b[0;32m    504\u001b[0m \u001b[1;33m\u001b[0m\u001b[0m\n",
      "\u001b[1;32m~\\Anaconda3\\lib\\site-packages\\coinbase\\wallet\\client.py\u001b[0m in \u001b[0;36m_get\u001b[1;34m(self, *args, **kwargs)\u001b[0m\n\u001b[0;32m    127\u001b[0m \u001b[1;33m\u001b[0m\u001b[0m\n\u001b[0;32m    128\u001b[0m   \u001b[1;32mdef\u001b[0m \u001b[0m_get\u001b[0m\u001b[1;33m(\u001b[0m\u001b[0mself\u001b[0m\u001b[1;33m,\u001b[0m \u001b[1;33m*\u001b[0m\u001b[0margs\u001b[0m\u001b[1;33m,\u001b[0m \u001b[1;33m**\u001b[0m\u001b[0mkwargs\u001b[0m\u001b[1;33m)\u001b[0m\u001b[1;33m:\u001b[0m\u001b[1;33m\u001b[0m\u001b[1;33m\u001b[0m\u001b[0m\n\u001b[1;32m--> 129\u001b[1;33m     \u001b[1;32mreturn\u001b[0m \u001b[0mself\u001b[0m\u001b[1;33m.\u001b[0m\u001b[0m_request\u001b[0m\u001b[1;33m(\u001b[0m\u001b[1;34m'get'\u001b[0m\u001b[1;33m,\u001b[0m \u001b[1;33m*\u001b[0m\u001b[0margs\u001b[0m\u001b[1;33m,\u001b[0m \u001b[1;33m**\u001b[0m\u001b[0mkwargs\u001b[0m\u001b[1;33m)\u001b[0m\u001b[1;33m\u001b[0m\u001b[1;33m\u001b[0m\u001b[0m\n\u001b[0m\u001b[0;32m    130\u001b[0m \u001b[1;33m\u001b[0m\u001b[0m\n\u001b[0;32m    131\u001b[0m   \u001b[1;32mdef\u001b[0m \u001b[0m_post\u001b[0m\u001b[1;33m(\u001b[0m\u001b[0mself\u001b[0m\u001b[1;33m,\u001b[0m \u001b[1;33m*\u001b[0m\u001b[0margs\u001b[0m\u001b[1;33m,\u001b[0m \u001b[1;33m**\u001b[0m\u001b[0mkwargs\u001b[0m\u001b[1;33m)\u001b[0m\u001b[1;33m:\u001b[0m\u001b[1;33m\u001b[0m\u001b[1;33m\u001b[0m\u001b[0m\n",
      "\u001b[1;32m~\\Anaconda3\\lib\\site-packages\\coinbase\\wallet\\client.py\u001b[0m in \u001b[0;36m_request\u001b[1;34m(self, method, *relative_path_parts, **kwargs)\u001b[0m\n\u001b[0;32m    114\u001b[0m     \u001b[0mkwargs\u001b[0m\u001b[1;33m.\u001b[0m\u001b[0mupdate\u001b[0m\u001b[1;33m(\u001b[0m\u001b[0mverify\u001b[0m\u001b[1;33m=\u001b[0m\u001b[0mself\u001b[0m\u001b[1;33m.\u001b[0m\u001b[0mVERIFY_SSL\u001b[0m\u001b[1;33m)\u001b[0m\u001b[1;33m\u001b[0m\u001b[1;33m\u001b[0m\u001b[0m\n\u001b[0;32m    115\u001b[0m     \u001b[0mresponse\u001b[0m \u001b[1;33m=\u001b[0m \u001b[0mgetattr\u001b[0m\u001b[1;33m(\u001b[0m\u001b[0mself\u001b[0m\u001b[1;33m.\u001b[0m\u001b[0msession\u001b[0m\u001b[1;33m,\u001b[0m \u001b[0mmethod\u001b[0m\u001b[1;33m)\u001b[0m\u001b[1;33m(\u001b[0m\u001b[0muri\u001b[0m\u001b[1;33m,\u001b[0m \u001b[1;33m**\u001b[0m\u001b[0mkwargs\u001b[0m\u001b[1;33m)\u001b[0m\u001b[1;33m\u001b[0m\u001b[1;33m\u001b[0m\u001b[0m\n\u001b[1;32m--> 116\u001b[1;33m     \u001b[1;32mreturn\u001b[0m \u001b[0mself\u001b[0m\u001b[1;33m.\u001b[0m\u001b[0m_handle_response\u001b[0m\u001b[1;33m(\u001b[0m\u001b[0mresponse\u001b[0m\u001b[1;33m)\u001b[0m\u001b[1;33m\u001b[0m\u001b[1;33m\u001b[0m\u001b[0m\n\u001b[0m\u001b[0;32m    117\u001b[0m \u001b[1;33m\u001b[0m\u001b[0m\n\u001b[0;32m    118\u001b[0m   \u001b[1;32mdef\u001b[0m \u001b[0m_handle_response\u001b[0m\u001b[1;33m(\u001b[0m\u001b[0mself\u001b[0m\u001b[1;33m,\u001b[0m \u001b[0mresponse\u001b[0m\u001b[1;33m)\u001b[0m\u001b[1;33m:\u001b[0m\u001b[1;33m\u001b[0m\u001b[1;33m\u001b[0m\u001b[0m\n",
      "\u001b[1;32m~\\Anaconda3\\lib\\site-packages\\coinbase\\wallet\\client.py\u001b[0m in \u001b[0;36m_handle_response\u001b[1;34m(self, response)\u001b[0m\n\u001b[0;32m    123\u001b[0m     \"\"\"\n\u001b[0;32m    124\u001b[0m     \u001b[1;32mif\u001b[0m \u001b[1;32mnot\u001b[0m \u001b[0mstr\u001b[0m\u001b[1;33m(\u001b[0m\u001b[0mresponse\u001b[0m\u001b[1;33m.\u001b[0m\u001b[0mstatus_code\u001b[0m\u001b[1;33m)\u001b[0m\u001b[1;33m.\u001b[0m\u001b[0mstartswith\u001b[0m\u001b[1;33m(\u001b[0m\u001b[1;34m'2'\u001b[0m\u001b[1;33m)\u001b[0m\u001b[1;33m:\u001b[0m\u001b[1;33m\u001b[0m\u001b[1;33m\u001b[0m\u001b[0m\n\u001b[1;32m--> 125\u001b[1;33m       \u001b[1;32mraise\u001b[0m \u001b[0mbuild_api_error\u001b[0m\u001b[1;33m(\u001b[0m\u001b[0mresponse\u001b[0m\u001b[1;33m)\u001b[0m\u001b[1;33m\u001b[0m\u001b[1;33m\u001b[0m\u001b[0m\n\u001b[0m\u001b[0;32m    126\u001b[0m     \u001b[1;32mreturn\u001b[0m \u001b[0mresponse\u001b[0m\u001b[1;33m\u001b[0m\u001b[1;33m\u001b[0m\u001b[0m\n\u001b[0;32m    127\u001b[0m \u001b[1;33m\u001b[0m\u001b[0m\n",
      "\u001b[1;31mInternalServerError\u001b[0m: APIError(id=internal_server_error): An error has occurred. If this problem persists, please visit https://support.coinbase.com for assistance."
     ]
    }
   ],
   "source": [
    "profit = 0\n",
    "profit_margin = 1.001\n",
    "sell_multiplier = 1\n",
    "cycle_mins = 60*12\n",
    "waiting_notify = False\n",
    "selling_notify = False\n",
    "total_spend = 0\n",
    "\n",
    "while (1):\n",
    "    try:\n",
    "        trader.getBalances()\n",
    "    except:\n",
    "        time.sleep(30)\n",
    "        trader.getBalances()\n",
    "        \n",
    "    if (current_side == 'sell') and (time_last_trade < (datetime.datetime.now() - datetime.timedelta(minutes = cycle_mins))):\n",
    "        current_side = 'buy'\n",
    "        sell_multiplier += 1\n",
    "        selling_notify = False\n",
    "        \n",
    "    if (current_side == 'buy') and (time_last_trade < (datetime.datetime.now() - datetime.timedelta(minutes = cycle_mins))):\n",
    "        last_buy_quote = np.Inf\n",
    "        waiting_notify = False\n",
    "        \n",
    "    if current_side == 'buy':\n",
    "        buy_q = float(trader.getBuyQuote(trading_currency, qty_per_trade))\n",
    "        if (trader.balances['USD'] > buy_q) and (buy_q < (last_buy_quote - 0.05)):\n",
    "            buy = trader.buy(trading_currency, qty_per_trade)\n",
    "            time_last_trade = datetime.datetime.now()\n",
    "            total_spend = float(buy['total']['amount'])\n",
    "            current_side = 'sell'\n",
    "            last_buy_quote = buy_q\n",
    "            waiting_notify = False\n",
    "            print('{:%H:%M:%S}: Bought {:.4f} {} for ${:.2f}'.format(datetime.datetime.now(), qty_per_trade, trading_currency, total_spend))\n",
    "\n",
    "        elif (trader.balances['USD'] < buy_q):\n",
    "            print('{:%H:%M:%S}: USD balance of ${:.2f} not enough to cover quote of ${:.2f}'.format(datetime.datetime.now(), trader.balances['USD'], buy_q))\n",
    "            current_side = 'sell'\n",
    "            last_buy_quote = buy_q\n",
    "            time_last_trade = datetime.datetime.now()\n",
    "            waiting_notify = False\n",
    "\n",
    "        elif (buy_q > (last_buy_quote-0.05)):\n",
    "            if not waiting_notify:\n",
    "                waiting_notify = True\n",
    "                output = 'Waiting for current buy price (${:.2f}) to drop below ${:.2f} before buying'.format(buy_q, last_buy_quote - 0.05)\n",
    "                print('{:%H:%M:%S}: {}'.format(datetime.datetime.now(), output))\n",
    "            \n",
    "    elif current_side == 'sell':\n",
    "        sell_q = float(trader.getSellQuote(trading_currency, qty_per_trade))\n",
    "        if (sell_q >= (total_spend * profit_margin)):\n",
    "            sell = trader.sell(trading_currency, sell_multiplier * qty_per_trade)\n",
    "            time_last_trade = datetime.datetime.now()\n",
    "            total_recieve = float(sell['total']['amount'])\n",
    "            current_side = 'buy'\n",
    "            sell_multiplier = 1\n",
    "            profit += total_recieve - total_spend\n",
    "            print('{:%H:%M:%S}: Sold {:.4f} {} for ${:.2f} for a profit of ${:.2f}'.format(datetime.datetime.now(), qty_per_trade, trading_currency, total_recieve, total_recieve - total_spend))\n",
    "            print('Total profit so far is ${:.2f}'.format(profit))\n",
    "            selling_notify = False\n",
    "\n",
    "        else:\n",
    "            if not selling_notify:\n",
    "                print('{:%H:%M:%S}: Potential sell proceeds of ${:.2f} not greater than spend of ${:.2f}'.format(datetime.datetime.now(), sell_q, total_spend * profit_margin))\n",
    "                selling_notify = True\n",
    "\n",
    "    time.sleep(30)"
   ]
  },
  {
   "cell_type": "code",
   "execution_count": null,
   "metadata": {},
   "outputs": [],
   "source": []
  }
 ],
 "metadata": {
  "kernelspec": {
   "display_name": "Python 3",
   "language": "python",
   "name": "python3"
  },
  "language_info": {
   "codemirror_mode": {
    "name": "ipython",
    "version": 3
   },
   "file_extension": ".py",
   "mimetype": "text/x-python",
   "name": "python",
   "nbconvert_exporter": "python",
   "pygments_lexer": "ipython3",
   "version": "3.7.1"
  }
 },
 "nbformat": 4,
 "nbformat_minor": 2
}
