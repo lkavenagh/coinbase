{
 "cells": [
  {
   "cell_type": "code",
   "execution_count": 1,
   "metadata": {},
   "outputs": [],
   "source": [
    "import sys\n",
    "import os\n",
    "\n",
    "sys.path.append(os.path.join(os.environ['HOMEDRIVE'], os.environ['HOMEPATH'], 'documents\\github\\coinbase'))\n",
    "\n",
    "from Trader import Trader"
   ]
  },
  {
   "cell_type": "code",
   "execution_count": 2,
   "metadata": {},
   "outputs": [],
   "source": [
    "trader = Trader()"
   ]
  },
  {
   "cell_type": "code",
   "execution_count": 10,
   "metadata": {},
   "outputs": [
    {
     "name": "stdout",
     "output_type": "stream",
     "text": [
      "BSV: 0.0536\n",
      "ZEC: 0.0000\n",
      "BAT: 0.0000\n",
      "USDC: 0.0000\n",
      "ZRX: 0.0000\n",
      "ETC: 0.0000\n",
      "BCH: 0.0002\n",
      "LTC: 0.2112\n",
      "ETH: 0.4152\n",
      "USD: 1.9400\n",
      "BTC: 0.0069\n",
      "XRP: 0.0000\n",
      "REP: 0.0000\n",
      "XLM: 0.0000\n"
     ]
    }
   ],
   "source": [
    "trader.printBalances()"
   ]
  },
  {
   "cell_type": "code",
   "execution_count": 5,
   "metadata": {},
   "outputs": [
    {
     "data": {
      "text/plain": [
       "[{'type': 'sell',\n",
       "  'time': '2019-05-22T02:55:22Z',\n",
       "  'amount': '-0.00100000',\n",
       "  'currency': 'BTC',\n",
       "  'native_amount': '-6.93',\n",
       "  'native_currency': 'USD'}]"
      ]
     },
     "execution_count": 5,
     "metadata": {},
     "output_type": "execute_result"
    }
   ],
   "source": [
    "trader.getRecentTrades(trader.account_ids['BTC'], 1)"
   ]
  },
  {
   "cell_type": "code",
   "execution_count": 6,
   "metadata": {},
   "outputs": [
    {
     "data": {
      "text/plain": [
       "{'BSV': '1b59a203-aad3-5c88-8b6b-caf295286772',\n",
       " 'ZEC': '58f37e72-c2d8-5eb7-8a1c-b68e29901910',\n",
       " 'BAT': '5b8297e6-c85e-5ef7-9f3d-1bd974e67173',\n",
       " 'USDC': 'b065db68-3de7-5d4c-8df5-b55dcf2d3138',\n",
       " 'ZRX': '370d66b2-e4dd-57c0-ba93-10ec1dad7044',\n",
       " 'ETC': 'ea3746d8-4630-545a-9bd3-30bc323909d8',\n",
       " 'BCH': '8ccbc550-01ca-5091-975b-d581515f38a9',\n",
       " 'LTC': 'ee965341-02ba-5fe8-8bc1-fa789cd3ecf8',\n",
       " 'ETH': '8e2bc005-2886-549f-bf6d-33e11f5577fa',\n",
       " 'USD': '484d37fb-e5fe-5f68-a2c3-e8e41654662a',\n",
       " 'BTC': '2c54b984-c3e9-57da-8687-d075d221b2f9',\n",
       " 'XRP': 'XRP',\n",
       " 'REP': 'REP',\n",
       " 'XLM': 'XLM'}"
      ]
     },
     "execution_count": 6,
     "metadata": {},
     "output_type": "execute_result"
    }
   ],
   "source": [
    "trader.account_ids"
   ]
  },
  {
   "cell_type": "code",
   "execution_count": 5,
   "metadata": {},
   "outputs": [
    {
     "name": "stdout",
     "output_type": "stream",
     "text": [
      "Selling 0.001 of BTC\n"
     ]
    },
    {
     "data": {
      "text/plain": [
       "<Sell @ 0x1a9b00e68e0> {\n",
       "  \"amount\": {\n",
       "    \"amount\": \"0.00100000\",\n",
       "    \"currency\": \"BTC\"\n",
       "  },\n",
       "  \"committed\": true,\n",
       "  \"created_at\": \"2019-05-22T02:55:21Z\",\n",
       "  \"fees\": [\n",
       "    {\n",
       "      \"amount\": {\n",
       "        \"amount\": \"0.99\",\n",
       "        \"currency\": \"USD\"\n",
       "      },\n",
       "      \"type\": \"coinbase\"\n",
       "    },\n",
       "    {\n",
       "      \"amount\": {\n",
       "        \"amount\": \"0.00\",\n",
       "        \"currency\": \"USD\"\n",
       "      },\n",
       "      \"type\": \"bank\"\n",
       "    }\n",
       "  ],\n",
       "  \"id\": \"32e5fded-7e28-5ba5-ae56-a67ee1b3e646\",\n",
       "  \"instant\": true,\n",
       "  \"next_step\": null,\n",
       "  \"payment_method\": {\n",
       "    \"id\": \"2d06830b-4a73-56a5-8dc8-d4eb8497c198\",\n",
       "    \"resource\": \"payment_method\",\n",
       "    \"resource_path\": \"/v2/payment-methods/2d06830b-4a73-56a5-8dc8-d4eb8497c198\"\n",
       "  },\n",
       "  \"payout_at\": \"2019-05-22T02:55:21Z\",\n",
       "  \"resource\": \"sell\",\n",
       "  \"resource_path\": \"/v2/accounts/2c54b984-c3e9-57da-8687-d075d221b2f9/sells/32e5fded-7e28-5ba5-ae56-a67ee1b3e646\",\n",
       "  \"status\": \"created\",\n",
       "  \"subtotal\": {\n",
       "    \"amount\": \"7.92\",\n",
       "    \"currency\": \"USD\"\n",
       "  },\n",
       "  \"total\": {\n",
       "    \"amount\": \"6.93\",\n",
       "    \"currency\": \"USD\"\n",
       "  },\n",
       "  \"transaction\": null,\n",
       "  \"unit_price\": {\n",
       "    \"amount\": \"7920.00\",\n",
       "    \"currency\": \"USD\",\n",
       "    \"scale\": 2\n",
       "  },\n",
       "  \"updated_at\": \"2019-05-22T02:55:21Z\",\n",
       "  \"user_reference\": \"UNNBPBYQ\"\n",
       "}"
      ]
     },
     "execution_count": 5,
     "metadata": {},
     "output_type": "execute_result"
    }
   ],
   "source": [
    "trader.sell('BTC', 0.001)"
   ]
  },
  {
   "cell_type": "code",
   "execution_count": 8,
   "metadata": {},
   "outputs": [
    {
     "name": "stdout",
     "output_type": "stream",
     "text": [
      "Buying 0.0005 of BTC from account_id 2d06830b-4a73-56a5-8dc8-d4eb8497c198\n"
     ]
    },
    {
     "data": {
      "text/plain": [
       "<Buy @ 0x15aa00b09e8> {\n",
       "  \"amount\": {\n",
       "    \"amount\": \"0.00050000\",\n",
       "    \"currency\": \"BTC\"\n",
       "  },\n",
       "  \"committed\": true,\n",
       "  \"created_at\": \"2019-05-22T02:58:10Z\",\n",
       "  \"fees\": [\n",
       "    {\n",
       "      \"amount\": {\n",
       "        \"amount\": \"0.99\",\n",
       "        \"currency\": \"USD\"\n",
       "      },\n",
       "      \"type\": \"coinbase\"\n",
       "    },\n",
       "    {\n",
       "      \"amount\": {\n",
       "        \"amount\": \"0.00\",\n",
       "        \"currency\": \"USD\"\n",
       "      },\n",
       "      \"type\": \"bank\"\n",
       "    }\n",
       "  ],\n",
       "  \"hold_business_days\": 0,\n",
       "  \"hold_days\": 0,\n",
       "  \"hold_until\": null,\n",
       "  \"id\": \"ad1f0a6b-600a-5a65-a9f6-2c865e12978d\",\n",
       "  \"instant\": true,\n",
       "  \"is_first_buy\": false,\n",
       "  \"next_step\": {\n",
       "    \"action\": \"poll_status\",\n",
       "    \"max_poll_attempts\": 100,\n",
       "    \"poll_interval_in_ms\": 5000,\n",
       "    \"status_on_max_attempts\": \"processing\"\n",
       "  },\n",
       "  \"payment_method\": {\n",
       "    \"id\": \"2d06830b-4a73-56a5-8dc8-d4eb8497c198\",\n",
       "    \"resource\": \"payment_method\",\n",
       "    \"resource_path\": \"/v2/payment-methods/2d06830b-4a73-56a5-8dc8-d4eb8497c198\"\n",
       "  },\n",
       "  \"payout_at\": \"2019-05-22T02:58:10Z\",\n",
       "  \"requires_completion_step\": false,\n",
       "  \"resource\": \"buy\",\n",
       "  \"resource_path\": \"/v2/accounts/2c54b984-c3e9-57da-8687-d075d221b2f9/buys/ad1f0a6b-600a-5a65-a9f6-2c865e12978d\",\n",
       "  \"status\": \"created\",\n",
       "  \"subtotal\": {\n",
       "    \"amount\": \"4.00\",\n",
       "    \"currency\": \"USD\"\n",
       "  },\n",
       "  \"total\": {\n",
       "    \"amount\": \"4.99\",\n",
       "    \"currency\": \"USD\"\n",
       "  },\n",
       "  \"transaction\": null,\n",
       "  \"unit_price\": {\n",
       "    \"amount\": \"8000.00\",\n",
       "    \"currency\": \"USD\",\n",
       "    \"scale\": 2\n",
       "  },\n",
       "  \"updated_at\": \"2019-05-22T02:58:11Z\",\n",
       "  \"user_reference\": \"4PKUW4GJ\"\n",
       "}"
      ]
     },
     "execution_count": 8,
     "metadata": {},
     "output_type": "execute_result"
    }
   ],
   "source": [
    "trader.buy('BTC', 0.0005)"
   ]
  },
  {
   "cell_type": "code",
   "execution_count": 11,
   "metadata": {},
   "outputs": [
    {
     "name": "stdout",
     "output_type": "stream",
     "text": [
      "Transaction 779c2c9f-c2de-58c9-8e22-f73bc4c319e7 not cancelled\n",
      "Transaction 58f3ad9e-6496-5783-bbc9-16092e41239a not cancelled\n",
      "Transaction e99de474-6c32-5d1a-b823-86b5fd246df5 not cancelled\n",
      "Transaction f35ca0ca-847e-53b5-bfb9-5e07bf302fee not cancelled\n",
      "Transaction 4d67629d-f843-5421-916f-5c5f8a3de745 not cancelled\n",
      "Transaction cce5ab5b-ae92-517a-bb61-f7749a80632e not cancelled\n",
      "Transaction de7d5711-2deb-5ecc-aa51-fcc96f5f855b not cancelled\n",
      "Transaction a4449e89-80f1-5ceb-a06a-aa6bb93c8c7d not cancelled\n",
      "Transaction 8eb5d230-20f1-59d3-8781-530b70b7ce27 not cancelled\n",
      "Transaction b1fd65c8-f294-5457-aaaa-b1d22eeed233 not cancelled\n",
      "Transaction d91e280b-3ae6-5e06-a0e9-72d78dcdd277 not cancelled\n",
      "Transaction ebda298b-087b-5417-afb4-6e5505f44fd7 not cancelled\n",
      "Transaction 9deeb0ce-a2d7-5bfe-bbc8-1e43ee100d10 not cancelled\n",
      "Transaction 981efc82-cc8c-52ac-a774-e027a34baa4c not cancelled\n",
      "Transaction b1f18419-01e4-56b5-928a-b524558388dc not cancelled\n",
      "Transaction 3faf0521-68bf-5886-9c82-0af5132ad3e0 not cancelled\n",
      "Transaction ed350294-0e55-502f-9a39-5eadda9845c8 not cancelled\n",
      "Transaction c03c7882-c236-5958-9e32-a8a588721776 not cancelled\n",
      "Transaction 948105b8-cafb-59e6-a0bb-dd91efdfda29 not cancelled\n",
      "Transaction 11962d05-679b-5afa-8224-78ffc6c99e5e not cancelled\n",
      "Transaction de4cc84d-aaba-58aa-b365-397e15401a4c not cancelled\n",
      "Transaction 78fc8d1d-fc58-5328-82d6-3ea00d15cd93 not cancelled\n",
      "Transaction 6e5899ac-0f01-599d-87e1-c49e7d0fbc2c not cancelled\n",
      "Transaction 5a484eee-106a-5165-8107-ed63863aa48e not cancelled\n",
      "Transaction 0023bc25-a086-5822-80d9-c2325c6e7cc9 not cancelled\n"
     ]
    }
   ],
   "source": [
    "trader.cancelAll()"
   ]
  }
 ],
 "metadata": {
  "kernelspec": {
   "display_name": "Python 3",
   "language": "python",
   "name": "python3"
  },
  "language_info": {
   "codemirror_mode": {
    "name": "ipython",
    "version": 3
   },
   "file_extension": ".py",
   "mimetype": "text/x-python",
   "name": "python",
   "nbconvert_exporter": "python",
   "pygments_lexer": "ipython3",
   "version": "3.7.1"
  }
 },
 "nbformat": 4,
 "nbformat_minor": 2
}
