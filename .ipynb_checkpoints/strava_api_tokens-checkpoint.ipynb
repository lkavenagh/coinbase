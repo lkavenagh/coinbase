{
 "cells": [
  {
   "cell_type": "code",
   "execution_count": 66,
   "metadata": {},
   "outputs": [],
   "source": [
    "import os\n",
    "import sys\n",
    "import psycopg2\n",
    "\n",
    "import requests\n",
    "\n",
    "import datetime\n",
    "\n",
    "import pandas as pd\n",
    "\n",
    "os.chdir(r'C:\\users\\lkave\\documents\\github\\runs')\n",
    "\n",
    "base_url = r'https://www.strava.com/api/v3/'"
   ]
  },
  {
   "cell_type": "code",
   "execution_count": 99,
   "metadata": {},
   "outputs": [],
   "source": [
    "def readConfig(key):\n",
    "    config = pd.read_csv(r'C:\\users\\lkave\\documents\\config.txt', header = None)\n",
    "    config = [c.split('=') for c in config[0]]\n",
    "    out = [c[1] for c in config if c[0] == key][0]\n",
    "    return(out)\n",
    "\n",
    "def addLineToConfig(key, val):\n",
    "    with open(r'C:\\users\\lkave\\documents\\config.txt', 'a') as myfile:\n",
    "        myfile.write('{}={}\\n'.format(key, val))\n",
    "        \n",
    "def removeLineFromConfig(key):\n",
    "    with open(r'C:\\users\\lkave\\documents\\config.txt', 'r') as myfile:\n",
    "        lines = myfile.readlines()\n",
    "    \n",
    "    contents = dict()\n",
    "    for line in lines:\n",
    "        contents[line.split('=')[0]] = line.split('=')[1]\n",
    "        \n",
    "    with open(r'C:\\users\\lkave\\documents\\config.txt', 'w') as myfile:\n",
    "        for key_to_write, val_to_write in contents.items():\n",
    "            if key_to_write != key:\n",
    "                myfile.write('{}={}'.format(key_to_write, val_to_write))"
   ]
  },
  {
   "cell_type": "markdown",
   "metadata": {},
   "source": [
    "## Get authorization code"
   ]
  },
  {
   "cell_type": "code",
   "execution_count": 46,
   "metadata": {},
   "outputs": [
    {
     "name": "stdout",
     "output_type": "stream",
     "text": [
      "https://www.strava.com/oauth/authorize?client_id=24353&redirect_uri=http://localhost/exchange_token&response_type=code&scope=activity:read_all\n"
     ]
    }
   ],
   "source": [
    "url = \"\"\"https://www.strava.com/oauth/authorize?client_id={}&redirect_uri=http://localhost/exchange_token&response_type=code&scope=activity:read_all\"\"\".format(readConfig('stravaclientid'))\n",
    "print(url)"
   ]
  },
  {
   "cell_type": "markdown",
   "metadata": {},
   "source": [
    "## Get new token"
   ]
  },
  {
   "cell_type": "code",
   "execution_count": 64,
   "metadata": {},
   "outputs": [],
   "source": [
    "url = 'https://www.strava.com/oauth/token'\n",
    "code = '36fb8087458cccb8d9f867909d52f3b3597c8dfb'\n",
    "\n",
    "params = {'client_id': readConfig('stravaclientid'),\n",
    "          'client_secret': readConfig('stravasecret'),\n",
    "          'code': code,\n",
    "          'grant_type': 'authorization_code'\n",
    "         }\n",
    "\n",
    "r = requests.post(url, params = params).json()"
   ]
  },
  {
   "cell_type": "code",
   "execution_count": 65,
   "metadata": {},
   "outputs": [
    {
     "data": {
      "text/plain": [
       "{'token_type': 'Bearer',\n",
       " 'expires_at': 1558426229,\n",
       " 'expires_in': 21169,\n",
       " 'refresh_token': '8300f619420608fcf21d9f6f79a58de4ee2341a7',\n",
       " 'access_token': 'a4814f4c0fb5704702b11465703d4c3acbd75515',\n",
       " 'athlete': {'id': 7478089,\n",
       "  'username': 'lkavenagh',\n",
       "  'resource_state': 2,\n",
       "  'firstname': 'Luke',\n",
       "  'lastname': 'Kavenagh',\n",
       "  'city': 'New York',\n",
       "  'state': 'New York',\n",
       "  'country': 'United States',\n",
       "  'sex': 'M',\n",
       "  'premium': False,\n",
       "  'summit': False,\n",
       "  'created_at': '2015-01-04T01:06:40Z',\n",
       "  'updated_at': '2019-02-17T18:45:17Z',\n",
       "  'badge_type_id': 0,\n",
       "  'profile_medium': 'https://dgalywyr863hv.cloudfront.net/pictures/athletes/7478089/2260767/1/medium.jpg',\n",
       "  'profile': 'https://dgalywyr863hv.cloudfront.net/pictures/athletes/7478089/2260767/1/large.jpg',\n",
       "  'friend': None,\n",
       "  'follower': None}}"
      ]
     },
     "execution_count": 65,
     "metadata": {},
     "output_type": "execute_result"
    }
   ],
   "source": [
    "r"
   ]
  },
  {
   "cell_type": "markdown",
   "metadata": {},
   "source": [
    "## Refresh token"
   ]
  },
  {
   "cell_type": "code",
   "execution_count": 69,
   "metadata": {},
   "outputs": [],
   "source": [
    "url = 'https://www.strava.com/oauth/token'\n",
    "code = '36fb8087458cccb8d9f867909d52f3b3597c8dfb'\n",
    "\n",
    "params = {'client_id': readConfig('stravaclientid'),\n",
    "          'client_secret': readConfig('stravasecret'),\n",
    "          'grant_type': 'refresh_token',\n",
    "          'refresh_token': readConfig('stravarefreshtoken')\n",
    "         }\n",
    "\n",
    "r = requests.post(url, params = params).json()"
   ]
  },
  {
   "cell_type": "code",
   "execution_count": 70,
   "metadata": {},
   "outputs": [
    {
     "data": {
      "text/plain": [
       "{'token_type': 'Bearer',\n",
       " 'access_token': '9078d3a15eac81e275951f2655d14299c644f2f4',\n",
       " 'expires_at': 1558586413,\n",
       " 'expires_in': 21600,\n",
       " 'refresh_token': '8300f619420608fcf21d9f6f79a58de4ee2341a7'}"
      ]
     },
     "execution_count": 70,
     "metadata": {},
     "output_type": "execute_result"
    }
   ],
   "source": [
    "removeLineFromConfig('stravatoken')\n",
    "removeLineFromConfig('stravarefreshtoken')\n",
    "addLineToConfig('stravatoken', r['access_token'])\n",
    "addLineToConfig('stravarefreshtoken', r['refresh_token'])"
   ]
  }
 ],
 "metadata": {
  "kernelspec": {
   "display_name": "Python 3",
   "language": "python",
   "name": "python3"
  },
  "language_info": {
   "codemirror_mode": {
    "name": "ipython",
    "version": 3
   },
   "file_extension": ".py",
   "mimetype": "text/x-python",
   "name": "python",
   "nbconvert_exporter": "python",
   "pygments_lexer": "ipython3",
   "version": "3.7.1"
  }
 },
 "nbformat": 4,
 "nbformat_minor": 2
}
