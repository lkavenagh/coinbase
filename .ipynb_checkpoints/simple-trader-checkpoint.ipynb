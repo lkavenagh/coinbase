{
 "cells": [
  {
   "cell_type": "code",
   "execution_count": 1,
   "metadata": {},
   "outputs": [],
   "source": [
    "from IPython.display import clear_output, display\n",
    "import sys\n",
    "import os\n",
    "import time\n",
    "import numpy as np\n",
    "import datetime\n",
    "\n",
    "sys.path.append(os.path.join(os.environ['HOMEDRIVE'], os.environ['HOMEPATH'], 'documents\\github\\coinbase'))\n",
    "\n",
    "from Trader import Trader"
   ]
  },
  {
   "cell_type": "code",
   "execution_count": 2,
   "metadata": {},
   "outputs": [],
   "source": [
    "trader = Trader()"
   ]
  },
  {
   "cell_type": "code",
   "execution_count": 3,
   "metadata": {},
   "outputs": [],
   "source": [
    "current_side = 'sell'\n",
    "qty_per_trade = 0.05\n",
    "trading_currency = 'ETH'"
   ]
  },
  {
   "cell_type": "code",
   "execution_count": 4,
   "metadata": {},
   "outputs": [],
   "source": [
    "last_buy_quote = np.Inf\n",
    "time_last_trade = datetime.datetime.now()"
   ]
  },
  {
   "cell_type": "code",
   "execution_count": 6,
   "metadata": {},
   "outputs": [
    {
     "name": "stdout",
     "output_type": "stream",
     "text": [
      "20:15:08: Potential sell proceeds of $-0.72 not greater than spend of $0.00\n"
     ]
    },
    {
     "ename": "KeyboardInterrupt",
     "evalue": "",
     "output_type": "error",
     "traceback": [
      "\u001b[1;31m---------------------------------------------------------------------------\u001b[0m",
      "\u001b[1;31mKeyboardInterrupt\u001b[0m                         Traceback (most recent call last)",
      "\u001b[1;32m<ipython-input-6-aee17e33a2bc>\u001b[0m in \u001b[0;36m<module>\u001b[1;34m\u001b[0m\n\u001b[0;32m     65\u001b[0m                 \u001b[0mselling_notify\u001b[0m \u001b[1;33m=\u001b[0m \u001b[1;32mTrue\u001b[0m\u001b[1;33m\u001b[0m\u001b[1;33m\u001b[0m\u001b[0m\n\u001b[0;32m     66\u001b[0m \u001b[1;33m\u001b[0m\u001b[0m\n\u001b[1;32m---> 67\u001b[1;33m     \u001b[0mtime\u001b[0m\u001b[1;33m.\u001b[0m\u001b[0msleep\u001b[0m\u001b[1;33m(\u001b[0m\u001b[1;36m30\u001b[0m\u001b[1;33m)\u001b[0m\u001b[1;33m\u001b[0m\u001b[1;33m\u001b[0m\u001b[0m\n\u001b[0m",
      "\u001b[1;31mKeyboardInterrupt\u001b[0m: "
     ]
    }
   ],
   "source": [
    "profit = 0\n",
    "profit_margin = 1.001\n",
    "sell_multiplier = 1\n",
    "cycle_mins = 60*4\n",
    "waiting_notify = False\n",
    "selling_notify = False\n",
    "total_spend = 0\n",
    "\n",
    "while (1):\n",
    "    try:\n",
    "        trader.getBalances()\n",
    "    except:\n",
    "        time.sleep(30)\n",
    "        trader.getBalances()\n",
    "        \n",
    "#     if (current_side == 'sell') and (time_last_trade < (datetime.datetime.now() - datetime.timedelta(minutes = cycle_mins))):\n",
    "#         current_side = 'buy'\n",
    "#         sell_multiplier += 1\n",
    "#         selling_notify = False\n",
    "        \n",
    "#     if (current_side == 'buy') and (time_last_trade < (datetime.datetime.now() - datetime.timedelta(minutes = cycle_mins))):\n",
    "#         last_buy_quote = np.Inf\n",
    "#         waiting_notify = False\n",
    "        \n",
    "    if current_side == 'buy':\n",
    "        buy_q = float(trader.getBuyQuote(trading_currency, qty_per_trade))\n",
    "        if (trader.balances['USD'] > buy_q) and (buy_q < (last_buy_quote - 0.05)):\n",
    "            buy = trader.buy(trading_currency, qty_per_trade)\n",
    "            time_last_trade = datetime.datetime.now()\n",
    "            total_spend = float(buy['total']['amount'])\n",
    "            current_side = 'sell'\n",
    "            last_buy_quote = buy_q\n",
    "            waiting_notify = False\n",
    "            print('{:%H:%M:%S}: Bought {:.4f} {} for ${:.2f}'.format(datetime.datetime.now(), qty_per_trade, trading_currency, total_spend))\n",
    "\n",
    "        elif (trader.balances['USD'] < buy_q):\n",
    "            print('{:%H:%M:%S}: USD balance of ${:.2f} not enough to cover quote of ${:.2f}'.format(datetime.datetime.now(), trader.balances['USD'], buy_q))\n",
    "            current_side = 'sell'\n",
    "            last_buy_quote = buy_q\n",
    "            time_last_trade = datetime.datetime.now()\n",
    "            waiting_notify = False\n",
    "\n",
    "        elif (buy_q > (last_buy_quote-0.05)):\n",
    "            if not waiting_notify:\n",
    "                waiting_notify = True\n",
    "                output = 'Waiting for current buy price (${:.2f}) to drop below ${:.2f} before buying'.format(buy_q, last_buy_quote - 0.05)\n",
    "                print('{:%H:%M:%S}: {}'.format(datetime.datetime.now(), output))\n",
    "            \n",
    "    elif current_side == 'sell':\n",
    "        sell_q = float(trader.getSellQuote(trading_currency, qty_per_trade))\n",
    "        if (sell_q >= (total_spend * profit_margin)):\n",
    "            sell = trader.sell(trading_currency, sell_multiplier * qty_per_trade)\n",
    "            time_last_trade = datetime.datetime.now()\n",
    "            total_recieve = float(sell['total']['amount'])\n",
    "            current_side = 'buy'\n",
    "            sell_multiplier = 1\n",
    "            profit += total_recieve - total_spend\n",
    "            print('{:%H:%M:%S}: Sold {:.4f} {} for ${:.2f} for a profit of ${:.2f}'.format(datetime.datetime.now(), qty_per_trade, trading_currency, total_recieve, total_recieve - total_spend))\n",
    "            print('Total profit so far is ${:.2f}'.format(profit))\n",
    "            selling_notify = False\n",
    "\n",
    "        else:\n",
    "            if not selling_notify:\n",
    "                print('{:%H:%M:%S}: Potential sell proceeds of ${:.2f} not greater than spend of ${:.2f}'.format(datetime.datetime.now(), sell_q, total_spend * profit_margin))\n",
    "                selling_notify = True\n",
    "\n",
    "    time.sleep(30)"
   ]
  },
  {
   "cell_type": "code",
   "execution_count": 14,
   "metadata": {},
   "outputs": [
    {
     "data": {
      "text/plain": [
       "'25.19'"
      ]
     },
     "execution_count": 14,
     "metadata": {},
     "output_type": "execute_result"
    }
   ],
   "source": [
    " trader.getSellQuote('ETH', .1)"
   ]
  },
  {
   "cell_type": "code",
   "execution_count": 11,
   "metadata": {},
   "outputs": [
    {
     "data": {
      "text/plain": [
       "0.001"
      ]
     },
     "execution_count": 11,
     "metadata": {},
     "output_type": "execute_result"
    }
   ],
   "source": [
    "qty_per_trade"
   ]
  }
 ],
 "metadata": {
  "kernelspec": {
   "display_name": "Python 3",
   "language": "python",
   "name": "python3"
  },
  "language_info": {
   "codemirror_mode": {
    "name": "ipython",
    "version": 3
   },
   "file_extension": ".py",
   "mimetype": "text/x-python",
   "name": "python",
   "nbconvert_exporter": "python",
   "pygments_lexer": "ipython3",
   "version": "3.7.1"
  }
 },
 "nbformat": 4,
 "nbformat_minor": 2
}
