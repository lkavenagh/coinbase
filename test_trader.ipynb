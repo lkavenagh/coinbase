{
 "cells": [
  {
   "cell_type": "code",
   "execution_count": 18,
   "metadata": {},
   "outputs": [],
   "source": [
    "import sys\n",
    "import os\n",
    "\n",
    "sys.path.append(os.path.join(os.environ['HOMEDRIVE'], os.environ['HOMEPATH'], 'documents\\github\\coinbase'))\n",
    "\n",
    "from Trader import Trader"
   ]
  },
  {
   "cell_type": "code",
   "execution_count": 19,
   "metadata": {},
   "outputs": [],
   "source": [
    "trader = Trader()"
   ]
  },
  {
   "cell_type": "code",
   "execution_count": 35,
   "metadata": {},
   "outputs": [
    {
     "name": "stdout",
     "output_type": "stream",
     "text": [
      "BSV: 0.0536\n",
      "DAI: 0.0000\n",
      "ZEC: 0.0000\n",
      "BAT: 0.0000\n",
      "USDC: 0.0000\n",
      "ZRX: 0.0000\n",
      "ETC: 0.0000\n",
      "BCH: 0.0002\n",
      "LTC: 0.2112\n",
      "ETH: 0.2768\n",
      "USD: 3.6900\n",
      "BTC: 0.0086\n",
      "XRP: 0.0000\n",
      "REP: 0.0000\n",
      "XLM: 0.0000\n"
     ]
    }
   ],
   "source": [
    "trader.printBalances()"
   ]
  },
  {
   "cell_type": "code",
   "execution_count": 41,
   "metadata": {},
   "outputs": [
    {
     "data": {
      "text/plain": [
       "15.28"
      ]
     },
     "execution_count": 41,
     "metadata": {},
     "output_type": "execute_result"
    }
   ],
   "source": [
    "float(trader.getBuyQuote('ETH', 0.05))"
   ]
  },
  {
   "cell_type": "code",
   "execution_count": 40,
   "metadata": {},
   "outputs": [
    {
     "data": {
      "text/plain": [
       "12.15"
      ]
     },
     "execution_count": 40,
     "metadata": {},
     "output_type": "execute_result"
    }
   ],
   "source": [
    "float(trader.getSellQuote('ETH', 0.05))"
   ]
  }
 ],
 "metadata": {
  "kernelspec": {
   "display_name": "Python 3",
   "language": "python",
   "name": "python3"
  },
  "language_info": {
   "codemirror_mode": {
    "name": "ipython",
    "version": 3
   },
   "file_extension": ".py",
   "mimetype": "text/x-python",
   "name": "python",
   "nbconvert_exporter": "python",
   "pygments_lexer": "ipython3",
   "version": "3.7.1"
  }
 },
 "nbformat": 4,
 "nbformat_minor": 2
}
