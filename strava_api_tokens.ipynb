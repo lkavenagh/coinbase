{
 "cells": [
  {
   "cell_type": "code",
   "execution_count": 1,
   "metadata": {},
   "outputs": [],
   "source": [
    "import os\n",
    "import sys\n",
    "import psycopg2\n",
    "\n",
    "import requests\n",
    "\n",
    "import datetime\n",
    "\n",
    "import pandas as pd\n",
    "\n",
    "os.chdir(r'C:\\users\\lkave\\documents\\github\\runs')\n",
    "\n",
    "base_url = r'https://www.strava.com/api/v3/'"
   ]
  },
  {
   "cell_type": "code",
   "execution_count": 6,
   "metadata": {},
   "outputs": [],
   "source": [
    "def readConfig(key):\n",
    "    config = pd.read_csv(r'C:\\users\\lkave\\documents\\config.txt', header = None)\n",
    "    config = [c.split('=') for c in config[0]]\n",
    "    out = [c[1] for c in config if c[0] == key][0]\n",
    "    return(out)"
   ]
  },
  {
   "cell_type": "code",
   "execution_count": 52,
   "metadata": {},
   "outputs": [
    {
     "name": "stdout",
     "output_type": "stream",
     "text": [
      "https://www.strava.com/api/v3/athlete/activities?before=1558411200&after=104400&page=1\n"
     ]
    }
   ],
   "source": [
    "before = str(datetime.datetime.now().date() + datetime.timedelta(1))\n",
    "after = str(datetime.date(1970,1,2))\n",
    "pg = 1\n",
    "\n",
    "url = base_url + r'athlete/activities'\n",
    "url = url + r'?before=' + str(int(datetime.datetime.strptime(before, '%Y-%m-%d').timestamp()))\n",
    "url = url + r'&after=' + str(int(datetime.datetime.strptime(after, '%Y-%m-%d').timestamp()))\n",
    "url = url + r'&page=' + str(pg)\n",
    "print(url)\n",
    "dat = requests.get(url, headers={\"Authorization\":\"Bearer {}\".format(readConfig('stravatoken'))}).json()"
   ]
  },
  {
   "cell_type": "markdown",
   "metadata": {},
   "source": [
    "## Get authorization code"
   ]
  },
  {
   "cell_type": "code",
   "execution_count": 46,
   "metadata": {},
   "outputs": [
    {
     "name": "stdout",
     "output_type": "stream",
     "text": [
      "https://www.strava.com/oauth/authorize?client_id=24353&redirect_uri=http://localhost/exchange_token&response_type=code&scope=activity:read_all\n"
     ]
    }
   ],
   "source": [
    "url = \"\"\"https://www.strava.com/oauth/authorize?client_id={}&redirect_uri=http://localhost/exchange_token&response_type=code&scope=activity:read_all\"\"\".format(readConfig('stravaclientid'))\n",
    "print(url)"
   ]
  },
  {
   "cell_type": "markdown",
   "metadata": {},
   "source": [
    "## Get new token"
   ]
  },
  {
   "cell_type": "code",
   "execution_count": 64,
   "metadata": {},
   "outputs": [],
   "source": [
    "url = 'https://www.strava.com/oauth/token'\n",
    "code = '36fb8087458cccb8d9f867909d52f3b3597c8dfb'\n",
    "\n",
    "params = {'client_id': readConfig('stravaclientid'),\n",
    "          'client_secret': readConfig('stravasecret'),\n",
    "          'code': code,\n",
    "          'grant_type': 'authorization_code'\n",
    "         }\n",
    "\n",
    "r = requests.post(url, params = params).json()"
   ]
  },
  {
   "cell_type": "code",
   "execution_count": 65,
   "metadata": {},
   "outputs": [
    {
     "data": {
      "text/plain": [
       "{'token_type': 'Bearer',\n",
       " 'expires_at': 1558426229,\n",
       " 'expires_in': 21169,\n",
       " 'refresh_token': '8300f619420608fcf21d9f6f79a58de4ee2341a7',\n",
       " 'access_token': 'a4814f4c0fb5704702b11465703d4c3acbd75515',\n",
       " 'athlete': {'id': 7478089,\n",
       "  'username': 'lkavenagh',\n",
       "  'resource_state': 2,\n",
       "  'firstname': 'Luke',\n",
       "  'lastname': 'Kavenagh',\n",
       "  'city': 'New York',\n",
       "  'state': 'New York',\n",
       "  'country': 'United States',\n",
       "  'sex': 'M',\n",
       "  'premium': False,\n",
       "  'summit': False,\n",
       "  'created_at': '2015-01-04T01:06:40Z',\n",
       "  'updated_at': '2019-02-17T18:45:17Z',\n",
       "  'badge_type_id': 0,\n",
       "  'profile_medium': 'https://dgalywyr863hv.cloudfront.net/pictures/athletes/7478089/2260767/1/medium.jpg',\n",
       "  'profile': 'https://dgalywyr863hv.cloudfront.net/pictures/athletes/7478089/2260767/1/large.jpg',\n",
       "  'friend': None,\n",
       "  'follower': None}}"
      ]
     },
     "execution_count": 65,
     "metadata": {},
     "output_type": "execute_result"
    }
   ],
   "source": [
    "r"
   ]
  },
  {
   "cell_type": "markdown",
   "metadata": {},
   "source": [
    "## Refresh token"
   ]
  },
  {
   "cell_type": "code",
   "execution_count": 62,
   "metadata": {},
   "outputs": [],
   "source": [
    "url = 'https://www.strava.com/oauth/token'\n",
    "code = '36fb8087458cccb8d9f867909d52f3b3597c8dfb'\n",
    "\n",
    "params = {'client_id': readConfig('stravaclientid'),\n",
    "          'client_secret': readConfig('stravasecret'),\n",
    "          'grant_type': 'refresh_token',\n",
    "          'refresh_token': readConfig('stravarefreshtoken')\n",
    "         }\n",
    "\n",
    "r = requests.post(url, params = params).json()"
   ]
  },
  {
   "cell_type": "code",
   "execution_count": 63,
   "metadata": {},
   "outputs": [
    {
     "data": {
      "text/plain": [
       "{'token_type': 'Bearer',\n",
       " 'access_token': 'a4814f4c0fb5704702b11465703d4c3acbd75515',\n",
       " 'expires_at': 1558426229,\n",
       " 'expires_in': 21172,\n",
       " 'refresh_token': '8300f619420608fcf21d9f6f79a58de4ee2341a7'}"
      ]
     },
     "execution_count": 63,
     "metadata": {},
     "output_type": "execute_result"
    }
   ],
   "source": [
    "r"
   ]
  }
 ],
 "metadata": {
  "kernelspec": {
   "display_name": "Python 3",
   "language": "python",
   "name": "python3"
  },
  "language_info": {
   "codemirror_mode": {
    "name": "ipython",
    "version": 3
   },
   "file_extension": ".py",
   "mimetype": "text/x-python",
   "name": "python",
   "nbconvert_exporter": "python",
   "pygments_lexer": "ipython3",
   "version": "3.7.1"
  }
 },
 "nbformat": 4,
 "nbformat_minor": 2
}
